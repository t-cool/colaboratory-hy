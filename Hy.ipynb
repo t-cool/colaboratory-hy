{
  "nbformat": 4,
  "nbformat_minor": 0,
  "metadata": {
    "colab": {
      "provenance": [],
      "authorship_tag": "ABX9TyNOoRsPs9oPz8StNY8sfxQ4",
      "include_colab_link": true
    },
    "kernelspec": {
      "name": "calysto_hy",
      "display_name": "Calysto Hy"
    }
  },
  "cells": [
    {
      "cell_type": "markdown",
      "metadata": {
        "id": "view-in-github",
        "colab_type": "text"
      },
      "source": [
        "<a href=\"https://colab.research.google.com/github/t-cool/colaboratory-hy/blob/main/Hy.ipynb\" target=\"_parent\"><img src=\"https://colab.research.google.com/assets/colab-badge.svg\" alt=\"Open In Colab\"/></a>"
      ]
    },
    {
      "cell_type": "code",
      "execution_count": null,
      "metadata": {
        "colab": {
          "base_uri": "https://localhost:8080/"
        },
        "id": "PUTotFhUXb-T",
        "outputId": "9d717641-9c41-401f-9bdb-d1760062e41a"
      },
      "outputs": [
        {
          "output_type": "stream",
          "name": "stdout",
          "text": [
            "Collecting hy\n",
            "  Downloading hy-0.28.0.tar.gz (106 kB)\n",
            "\u001b[2K     \u001b[90m━━━━━━━━━━━━━━━━━━━━━━━━━━━━━━━━━━━━━━━━\u001b[0m \u001b[32m106.4/106.4 kB\u001b[0m \u001b[31m1.6 MB/s\u001b[0m eta \u001b[36m0:00:00\u001b[0m\n",
            "\u001b[?25h  Preparing metadata (setup.py) ... \u001b[?25l\u001b[?25hdone\n",
            "Collecting funcparserlib~=1.0 (from hy)\n",
            "  Using cached funcparserlib-1.0.1-py2.py3-none-any.whl (17 kB)\n",
            "Building wheels for collected packages: hy\n",
            "  Building wheel for hy (setup.py) ... \u001b[?25l\u001b[?25hdone\n",
            "  Created wheel for hy: filename=hy-0.28.0-py3-none-any.whl size=109978 sha256=0f54b1f6cbd48e7db223bfe3e1ffa4b68a4f5ec8244f7d2cf437d3557de16983\n",
            "  Stored in directory: /root/.cache/pip/wheels/84/69/05/3b5b46557121446422b7425769ece4908f06b6a0c01c0839a0\n",
            "Successfully built hy\n",
            "Installing collected packages: funcparserlib, hy\n",
            "Successfully installed funcparserlib-1.0.1 hy-0.28.0\n",
            "Collecting git+https://github.com/Calysto/calysto_hy.git\n",
            "  Cloning https://github.com/Calysto/calysto_hy.git to /tmp/pip-req-build-5vfxmpj_\n",
            "  Running command git clone --filter=blob:none --quiet https://github.com/Calysto/calysto_hy.git /tmp/pip-req-build-5vfxmpj_\n",
            "  Resolved https://github.com/Calysto/calysto_hy.git to commit cb27064bdd83aee1aeb6bc2924914660e1ae7c8e\n",
            "  Preparing metadata (setup.py) ... \u001b[?25l\u001b[?25hdone\n",
            "Collecting metakernel (from calysto-hy==0.2.0)\n",
            "  Downloading metakernel-0.30.1-py3-none-any.whl (217 kB)\n",
            "\u001b[2K     \u001b[90m━━━━━━━━━━━━━━━━━━━━━━━━━━━━━━━━━━━━━━━━\u001b[0m \u001b[32m217.8/217.8 kB\u001b[0m \u001b[31m3.1 MB/s\u001b[0m eta \u001b[36m0:00:00\u001b[0m\n",
            "\u001b[?25hRequirement already satisfied: hy in /usr/local/lib/python3.10/dist-packages (from calysto-hy==0.2.0) (0.28.0)\n",
            "Requirement already satisfied: toolz in /usr/local/lib/python3.10/dist-packages (from calysto-hy==0.2.0) (0.12.0)\n",
            "Requirement already satisfied: funcparserlib~=1.0 in /usr/local/lib/python3.10/dist-packages (from hy->calysto-hy==0.2.0) (1.0.1)\n",
            "Requirement already satisfied: ipykernel>=5.5.6 in /usr/local/lib/python3.10/dist-packages (from metakernel->calysto-hy==0.2.0) (5.5.6)\n",
            "Collecting jedi>=0.18 (from metakernel->calysto-hy==0.2.0)\n",
            "  Downloading jedi-0.19.1-py2.py3-none-any.whl (1.6 MB)\n",
            "\u001b[2K     \u001b[90m━━━━━━━━━━━━━━━━━━━━━━━━━━━━━━━━━━━━━━━━\u001b[0m \u001b[32m1.6/1.6 MB\u001b[0m \u001b[31m11.8 MB/s\u001b[0m eta \u001b[36m0:00:00\u001b[0m\n",
            "\u001b[?25hRequirement already satisfied: jupyter-core>=4.9.2 in /usr/local/lib/python3.10/dist-packages (from metakernel->calysto-hy==0.2.0) (5.5.1)\n",
            "Requirement already satisfied: pexpect>=4.8 in /usr/local/lib/python3.10/dist-packages (from metakernel->calysto-hy==0.2.0) (4.9.0)\n",
            "Requirement already satisfied: ipython-genutils in /usr/local/lib/python3.10/dist-packages (from ipykernel>=5.5.6->metakernel->calysto-hy==0.2.0) (0.2.0)\n",
            "Requirement already satisfied: ipython>=5.0.0 in /usr/local/lib/python3.10/dist-packages (from ipykernel>=5.5.6->metakernel->calysto-hy==0.2.0) (7.34.0)\n",
            "Requirement already satisfied: traitlets>=4.1.0 in /usr/local/lib/python3.10/dist-packages (from ipykernel>=5.5.6->metakernel->calysto-hy==0.2.0) (5.7.1)\n",
            "Requirement already satisfied: jupyter-client in /usr/local/lib/python3.10/dist-packages (from ipykernel>=5.5.6->metakernel->calysto-hy==0.2.0) (6.1.12)\n",
            "Requirement already satisfied: tornado>=4.2 in /usr/local/lib/python3.10/dist-packages (from ipykernel>=5.5.6->metakernel->calysto-hy==0.2.0) (6.3.2)\n",
            "Requirement already satisfied: parso<0.9.0,>=0.8.3 in /usr/local/lib/python3.10/dist-packages (from jedi>=0.18->metakernel->calysto-hy==0.2.0) (0.8.3)\n",
            "Requirement already satisfied: platformdirs>=2.5 in /usr/local/lib/python3.10/dist-packages (from jupyter-core>=4.9.2->metakernel->calysto-hy==0.2.0) (4.1.0)\n",
            "Requirement already satisfied: ptyprocess>=0.5 in /usr/local/lib/python3.10/dist-packages (from pexpect>=4.8->metakernel->calysto-hy==0.2.0) (0.7.0)\n",
            "Requirement already satisfied: setuptools>=18.5 in /usr/local/lib/python3.10/dist-packages (from ipython>=5.0.0->ipykernel>=5.5.6->metakernel->calysto-hy==0.2.0) (67.7.2)\n",
            "Requirement already satisfied: decorator in /usr/local/lib/python3.10/dist-packages (from ipython>=5.0.0->ipykernel>=5.5.6->metakernel->calysto-hy==0.2.0) (4.4.2)\n",
            "Requirement already satisfied: pickleshare in /usr/local/lib/python3.10/dist-packages (from ipython>=5.0.0->ipykernel>=5.5.6->metakernel->calysto-hy==0.2.0) (0.7.5)\n",
            "Requirement already satisfied: prompt-toolkit!=3.0.0,!=3.0.1,<3.1.0,>=2.0.0 in /usr/local/lib/python3.10/dist-packages (from ipython>=5.0.0->ipykernel>=5.5.6->metakernel->calysto-hy==0.2.0) (3.0.43)\n",
            "Requirement already satisfied: pygments in /usr/local/lib/python3.10/dist-packages (from ipython>=5.0.0->ipykernel>=5.5.6->metakernel->calysto-hy==0.2.0) (2.16.1)\n",
            "Requirement already satisfied: backcall in /usr/local/lib/python3.10/dist-packages (from ipython>=5.0.0->ipykernel>=5.5.6->metakernel->calysto-hy==0.2.0) (0.2.0)\n",
            "Requirement already satisfied: matplotlib-inline in /usr/local/lib/python3.10/dist-packages (from ipython>=5.0.0->ipykernel>=5.5.6->metakernel->calysto-hy==0.2.0) (0.1.6)\n",
            "Requirement already satisfied: pyzmq>=13 in /usr/local/lib/python3.10/dist-packages (from jupyter-client->ipykernel>=5.5.6->metakernel->calysto-hy==0.2.0) (23.2.1)\n",
            "Requirement already satisfied: python-dateutil>=2.1 in /usr/local/lib/python3.10/dist-packages (from jupyter-client->ipykernel>=5.5.6->metakernel->calysto-hy==0.2.0) (2.8.2)\n",
            "Requirement already satisfied: wcwidth in /usr/local/lib/python3.10/dist-packages (from prompt-toolkit!=3.0.0,!=3.0.1,<3.1.0,>=2.0.0->ipython>=5.0.0->ipykernel>=5.5.6->metakernel->calysto-hy==0.2.0) (0.2.12)\n",
            "Requirement already satisfied: six>=1.5 in /usr/local/lib/python3.10/dist-packages (from python-dateutil>=2.1->jupyter-client->ipykernel>=5.5.6->metakernel->calysto-hy==0.2.0) (1.16.0)\n",
            "Building wheels for collected packages: calysto-hy\n",
            "  Building wheel for calysto-hy (setup.py) ... \u001b[?25l\u001b[?25hdone\n",
            "  Created wheel for calysto-hy: filename=calysto_hy-0.2.0-py3-none-any.whl size=5339 sha256=1674c4d712a5a5fbdb7887a5c08b3b35a1cc3ddc5407f1930904ec03bff82b08\n",
            "  Stored in directory: /tmp/pip-ephem-wheel-cache-284ak2tn/wheels/b7/09/fa/72b10ff338597078f91cdaecb7a0dd03c5237facdacbd437ca\n",
            "Successfully built calysto-hy\n",
            "Installing collected packages: jedi, metakernel, calysto-hy\n",
            "Successfully installed calysto-hy-0.2.0 jedi-0.19.1 metakernel-0.30.1\n",
            "[InstallKernelSpec] Installed kernelspec calysto_hy in /usr/local/share/jupyter/kernels/calysto_hy\n"
          ]
        }
      ],
      "source": [
        "!pip install hy\n",
        "!pip install git+https://github.com/Calysto/calysto_hy.git\n",
        "!python -m calysto_hy install"
      ]
    },
    {
      "cell_type": "code",
      "source": [
        "(+ 1 1)"
      ],
      "metadata": {
        "colab": {
          "base_uri": "https://localhost:8080/"
        },
        "id": "iQtLVrJrXgXJ",
        "outputId": "7c879f23-6751-467f-9f62-dc53e473c7a0"
      },
      "execution_count": null,
      "outputs": [
        {
          "output_type": "execute_result",
          "data": {
            "text/plain": [
              "2"
            ]
          },
          "metadata": {},
          "execution_count": 4
        }
      ]
    },
    {
      "cell_type": "code",
      "source": [],
      "metadata": {
        "id": "jvJTA90zX2ea"
      },
      "execution_count": null,
      "outputs": []
    }
  ]
}